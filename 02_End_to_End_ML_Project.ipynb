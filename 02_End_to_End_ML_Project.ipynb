{
  "nbformat": 4,
  "nbformat_minor": 0,
  "metadata": {
    "colab": {
      "name": "02-End-to-End-ML-Project.ipynb",
      "provenance": [],
      "collapsed_sections": [],
      "authorship_tag": "ABX9TyMl7dLga7PBjilOKKQdD1v/"
    },
    "kernelspec": {
      "name": "python3",
      "display_name": "Python 3"
    },
    "language_info": {
      "name": "python"
    }
  },
  "cells": [
    {
      "cell_type": "markdown",
      "metadata": {
        "id": "4ln-19DyblT4"
      },
      "source": [
        "# **End-to-End Machine Learning Project**\n",
        "We will go through an example project pretending to be a data scientist. The main steps are:\n",
        "\n",
        "\n",
        "\n",
        "\n",
        "\n",
        "1.   Frame the problem and look at the big picture\n",
        "2.   Get the data\n",
        "\n",
        "1.   Discover and visualize the data to gain insights\n",
        "2.   Prepare the data to better expose the underlying data patterns to Machine Learning algorithms\n",
        "\n",
        "1.   Explore many different models, shortlist the best ones and train it\n",
        "2.   Fine-tune your model and combine them into a great solution\n",
        "\n",
        "1.   Present your solution\n",
        "2.   Launch, monitor, and maintain your system\n",
        "\n",
        "We will use the *Calofornia Housing Prices* datasets from StatLib repository.\n",
        "\n",
        "\n",
        "\n",
        "\n",
        "\n",
        "\n",
        "\n",
        "\n",
        "\n"
      ]
    },
    {
      "cell_type": "markdown",
      "metadata": {
        "id": "bdotyEywdZJR"
      },
      "source": [
        "## **Frame the Problem**\n",
        "\n",
        "Get a clear picture of your objective to determine how to frame the porblem, which algorithms you will select, which performance measure you will use for evaluation and how much effort you will spend tweaking it."
      ]
    },
    {
      "cell_type": "code",
      "metadata": {
        "id": "ZfkeZkpsbfgR"
      },
      "source": [
        ""
      ],
      "execution_count": null,
      "outputs": []
    }
  ]
}